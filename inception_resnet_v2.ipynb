{
  "nbformat": 4,
  "nbformat_minor": 0,
  "metadata": {
    "colab": {
      "provenance": [],
      "gpuType": "T4"
    },
    "kernelspec": {
      "name": "python3",
      "display_name": "Python 3"
    },
    "language_info": {
      "name": "python"
    },
    "accelerator": "GPU"
  },
  "cells": [
    {
      "cell_type": "code",
      "execution_count": 2,
      "metadata": {
        "id": "iSn-_NpvFiLa"
      },
      "outputs": [],
      "source": [
        "import matplotlib.pyplot as plt\n",
        "import numpy as np\n",
        "import pandas as pd\n",
        "from tensorflow import keras\n",
        "import os"
      ]
    },
    {
      "cell_type": "code",
      "source": [
        "from google.colab import drive\n",
        "drive.mount('/content/drive')"
      ],
      "metadata": {
        "colab": {
          "base_uri": "https://localhost:8080/"
        },
        "id": "YQz31kB4vA1Z",
        "outputId": "d2bb3011-f4f9-4fd9-cf26-915b127293bc"
      },
      "execution_count": 3,
      "outputs": [
        {
          "output_type": "stream",
          "name": "stdout",
          "text": [
            "Mounted at /content/drive\n"
          ]
        }
      ]
    },
    {
      "cell_type": "code",
      "source": [
        "!unzip -q \"/content/drive/MyDrive/train_data.zip\""
      ],
      "metadata": {
        "id": "KMxYODWRFw0O"
      },
      "execution_count": 4,
      "outputs": []
    },
    {
      "cell_type": "code",
      "source": [],
      "metadata": {
        "id": "4q33f-yO7h-j"
      },
      "execution_count": null,
      "outputs": []
    },
    {
      "cell_type": "code",
      "source": [
        "img_gen = keras.preprocessing.image.ImageDataGenerator(\n",
        "    rescale=1./255,\n",
        "    horizontal_flip=True,\n",
        "    validation_split=0.2\n",
        ")"
      ],
      "metadata": {
        "id": "_C-UHrhE0HTz"
      },
      "execution_count": 5,
      "outputs": []
    },
    {
      "cell_type": "code",
      "source": [
        "BATCH_SIZE = 32\n",
        "train_ds = img_gen.flow_from_directory(directory = '/content/train_data' , batch_size = BATCH_SIZE ,\n",
        "                                       shuffle = True , class_mode = 'sparse' ,\n",
        "                                       target_size = (299,299) , subset = 'training' , seed = 42)\n",
        "val_ds = img_gen.flow_from_directory(directory = '/content/train_data' , batch_size = BATCH_SIZE ,\n",
        "                                     shuffle = False  , class_mode = 'sparse' ,\n",
        "                                     target_size = (299,299) , subset = 'validation', seed = 42)"
      ],
      "metadata": {
        "colab": {
          "base_uri": "https://localhost:8080/"
        },
        "id": "X1BzS7_o0aW1",
        "outputId": "e2153be5-831c-40a7-d0b5-481eae85d205"
      },
      "execution_count": 6,
      "outputs": [
        {
          "output_type": "stream",
          "name": "stdout",
          "text": [
            "Found 7994 images belonging to 10 classes.\n",
            "Found 1996 images belonging to 10 classes.\n"
          ]
        }
      ]
    },
    {
      "cell_type": "code",
      "source": [
        "from keras.src.saving.saving_lib import optimizer\n",
        "from keras.applications.inception_resnet_v2 import InceptionResNetV2\n",
        "\n",
        "num_classes = 10\n",
        "base_model_1 = InceptionResNetV2(weights='imagenet' , include_top = False)\n",
        "x = base_model_1.output\n",
        "x = keras.layers.GlobalAveragePooling2D()(x)\n",
        "x = keras.layers.Dense(1024, activation='relu')(x)\n",
        "predictions = keras.layers.Dense(num_classes, activation='softmax')(x)\n",
        "model_1 = keras.Model(inputs=base_model_1.input, outputs=predictions)\n",
        "model_1.compile(loss = 'sparse_categorical_crossentropy' ,\n",
        "                     optimizer = 'adam' , metrics = ['accuracy'])\n",
        "for layer in model_1.layers[:775] :\n",
        "  layer.trainable = False\n",
        "for layer in model_1.layers[775:] :\n",
        "  layer.trainable = True\n",
        "check_inc_res = keras.callbacks.ModelCheckpoint('/content/drive/MyDrive/inc_res_v2_1.h5', monitor='val_accuracy', save_best_only=False)"
      ],
      "metadata": {
        "id": "hQF-JYT64ZJ-",
        "colab": {
          "base_uri": "https://localhost:8080/"
        },
        "outputId": "4828cafd-49ab-4889-f3fb-fada36f97900"
      },
      "execution_count": 7,
      "outputs": [
        {
          "output_type": "stream",
          "name": "stdout",
          "text": [
            "Downloading data from https://storage.googleapis.com/tensorflow/keras-applications/inception_resnet_v2/inception_resnet_v2_weights_tf_dim_ordering_tf_kernels_notop.h5\n",
            "219055592/219055592 [==============================] - 7s 0us/step\n"
          ]
        }
      ]
    },
    {
      "cell_type": "code",
      "source": [
        "model_1.fit(train_ds , validation_data = val_ds , epochs = 10 , callbacks=[check_inc_res] )"
      ],
      "metadata": {
        "colab": {
          "base_uri": "https://localhost:8080/"
        },
        "id": "maT0HP9k38MA",
        "outputId": "a5d1e682-a772-4fe0-9d09-add27dd5043e"
      },
      "execution_count": null,
      "outputs": [
        {
          "output_type": "stream",
          "name": "stdout",
          "text": [
            "Epoch 1/10\n",
            "250/250 [==============================] - ETA: 0s - loss: 1.9500 - accuracy: 0.3174"
          ]
        },
        {
          "output_type": "stream",
          "name": "stderr",
          "text": [
            "/usr/local/lib/python3.10/dist-packages/keras/src/engine/training.py:3079: UserWarning: You are saving your model as an HDF5 file via `model.save()`. This file format is considered legacy. We recommend using instead the native Keras format, e.g. `model.save('my_model.keras')`.\n",
            "  saving_api.save_model(\n"
          ]
        },
        {
          "output_type": "stream",
          "name": "stdout",
          "text": [
            "\b\b\b\b\b\b\b\b\b\b\b\b\b\b\b\b\b\b\b\b\b\b\b\b\b\b\b\b\b\b\b\b\b\b\b\b\b\b\b\b\b\b\b\b\b\b\b\b\b\b\b\b\b\b\b\b\b\b\b\b\b\b\b\b\b\b\b\b\b\b\b\b\b\b\b\b\b\b\b\b\b\b\b\b\r250/250 [==============================] - 405s 1s/step - loss: 1.9500 - accuracy: 0.3174 - val_loss: 2.6359 - val_accuracy: 0.1959\n",
            "Epoch 2/10\n",
            "250/250 [==============================] - 297s 1s/step - loss: 1.6596 - accuracy: 0.4234 - val_loss: 1.8224 - val_accuracy: 0.3938\n",
            "Epoch 3/10\n",
            " 39/250 [===>..........................] - ETA: 3:40 - loss: 1.5642 - accuracy: 0.4573"
          ]
        }
      ]
    }
  ]
}