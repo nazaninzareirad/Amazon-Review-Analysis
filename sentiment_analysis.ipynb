{
  "cells": [
    {
      "cell_type": "markdown",
      "metadata": {
        "id": "view-in-github",
        "colab_type": "text"
      },
      "source": [
        "<a href=\"https://colab.research.google.com/github/nazaninzareirad/Amazon-Review-Analysis/blob/NLP/sentiment_analysis.ipynb\" target=\"_parent\"><img src=\"https://colab.research.google.com/assets/colab-badge.svg\" alt=\"Open In Colab\"/></a>"
      ]
    },
    {
      "cell_type": "code",
      "execution_count": null,
      "metadata": {
        "colab": {
          "base_uri": "https://localhost:8080/",
          "height": 174
        },
        "id": "VJXaocWnrgN2",
        "outputId": "654f7f5e-813d-4871-a529-01768a5a29ee"
      },
      "outputs": [
        {
          "name": "stderr",
          "output_type": "stream",
          "text": [
            "Downloading...\n",
            "From: https://drive.google.com/uc?id=1-AlW7oNJHaqi3xk_9dWHUS52Dzl_FmFW\n",
            "To: /content/train_data.csv\n",
            "100%|██████████| 635M/635M [00:02<00:00, 221MB/s]\n",
            "Downloading...\n",
            "From: https://drive.google.com/uc?id=1I9aPAvvYgQWdHGKtnd7IeTGXpx8vOm4h\n",
            "To: /content/extra_data.csv\n",
            "100%|██████████| 97.3M/97.3M [00:00<00:00, 189MB/s]\n"
          ]
        },
        {
          "data": {
            "application/vnd.google.colaboratory.intrinsic+json": {
              "type": "string"
            },
            "text/plain": [
              "'extra_data.csv'"
            ]
          },
          "execution_count": 5,
          "metadata": {},
          "output_type": "execute_result"
        }
      ],
      "source": [
        "import gdown\n",
        "\n",
        "google_drive_url = 'https://drive.google.com/file/d/1-AlW7oNJHaqi3xk_9dWHUS52Dzl_FmFW/view?usp=sharing'\n",
        "file_id = google_drive_url.split(\"/\")[-2]\n",
        "output = 'train_data.csv'\n",
        "gdown.download(f'https://drive.google.com/uc?id={file_id}', output, quiet=False)\n",
        "url_extra = 'https://drive.google.com/file/d/1I9aPAvvYgQWdHGKtnd7IeTGXpx8vOm4h/view?usp=drive_link'\n",
        "extra_id = url_extra.split(\"/\")[-2]\n",
        "output1 = 'extra_data.csv'\n",
        "gdown.download(f'https://drive.google.com/uc?id={extra_id}', output1, quiet=False)\n"
      ]
    },
    {
      "cell_type": "code",
      "execution_count": null,
      "metadata": {
        "id": "K4XpgAcnsuKx"
      },
      "outputs": [],
      "source": [
        "import pandas as pd\n",
        "import numpy as np\n",
        "import seaborn as sns\n",
        "from scipy import stats\n",
        "import matplotlib.pyplot as plt"
      ]
    },
    {
      "cell_type": "code",
      "execution_count": null,
      "metadata": {
        "id": "QM7_M4E0syFc"
      },
      "outputs": [],
      "source": [
        "df = pd.read_csv('train_data.csv', low_memory=False)"
      ]
    },
    {
      "cell_type": "code",
      "execution_count": null,
      "metadata": {
        "colab": {
          "base_uri": "https://localhost:8080/"
        },
        "id": "hvd61vxUjQ-n",
        "outputId": "a373f873-6237-480b-a95b-6d3723dc1120"
      },
      "outputs": [
        {
          "data": {
            "text/plain": [
              "Index(['overall', 'vote', 'verified', 'reviewTime', 'reviewerID', 'asin',\n",
              "       'style', 'reviewerName', 'reviewText', 'summary', 'unixReviewTime'],\n",
              "      dtype='object')"
            ]
          },
          "execution_count": 8,
          "metadata": {},
          "output_type": "execute_result"
        }
      ],
      "source": [
        "df.columns"
      ]
    },
    {
      "cell_type": "code",
      "execution_count": null,
      "metadata": {
        "id": "3q5i5CDrSYZ_"
      },
      "outputs": [],
      "source": [
        "for i in range(10):\n",
        "  print(df['reviewText'][i])"
      ]
    },
    {
      "cell_type": "code",
      "execution_count": null,
      "metadata": {
        "id": "sTf5Sw3V6Q8l"
      },
      "outputs": [],
      "source": [
        "df.info()"
      ]
    },
    {
      "cell_type": "markdown",
      "metadata": {
        "id": "2sElc5v8tG-u"
      },
      "source": [
        "**Distribution of overall column**"
      ]
    },
    {
      "cell_type": "code",
      "execution_count": null,
      "metadata": {
        "id": "rX9J2gMiGRCb"
      },
      "outputs": [],
      "source": [
        "df['overall'].plot(kind='hist', bins=5, rwidth=0.9, color='#607c8e')\n",
        "plt.title('Distribution of Overall Ratings')\n",
        "plt.xlabel('Overall Rating')\n",
        "plt.ylabel('Count')\n",
        "plt.show()"
      ]
    },
    {
      "cell_type": "markdown",
      "metadata": {
        "id": "CDYoCc3rtrP3"
      },
      "source": [
        "**Is the data normally distributed?**"
      ]
    },
    {
      "cell_type": "code",
      "execution_count": null,
      "metadata": {
        "id": "-1QVPnzGttjd"
      },
      "outputs": [],
      "source": [
        "# Shapiro-Wilk test for normality\n",
        "col = 'overall'\n",
        "shapiro_test_statistic, shapiro_p_value = stats.shapiro(df[col])\n",
        "\n",
        "if shapiro_p_value < 0.05:\n",
        "    print(f'The {col} column does not follow a normal distribution (p-value: {shapiro_p_value})')\n",
        "else:\n",
        "    print(f'The {col} column follows a normal distribution (p-value: {shapiro_p_value})')\n"
      ]
    },
    {
      "cell_type": "markdown",
      "metadata": {
        "id": "Pumb_59JHKDf"
      },
      "source": [
        "According to the distribution & normality test we can clearly say that the data is not balanced, in fact it's right skew & most of the ratings are 4 or 5."
      ]
    },
    {
      "cell_type": "code",
      "execution_count": null,
      "metadata": {
        "id": "OnqKDm16Gyqa"
      },
      "outputs": [],
      "source": [
        "from wordcloud import WordCloud\n",
        "import nltk\n",
        "nltk.download('stopwords')\n",
        "from nltk.corpus import stopwords\n",
        "\n",
        "# sentiment categories\n",
        "positive_reviews = df[df['overall'].isin([4, 5])]['reviewText']\n",
        "neutral_reviews = df[df['overall'] == 3]['reviewText']\n",
        "negative_reviews = df[df['overall'].isin([1, 2])]['reviewText']"
      ]
    },
    {
      "cell_type": "code",
      "execution_count": null,
      "metadata": {
        "id": "B_b7sKhXIFD4"
      },
      "outputs": [],
      "source": [
        "# word clouds for each sentiment category\n",
        "def generate_word_cloud(text, title):\n",
        "    wordcloud = WordCloud(width=800, height=400, background_color='white', stopwords=stopwords.words('english')).generate(text)\n",
        "    plt.figure(figsize=(10, 5))\n",
        "    plt.imshow(wordcloud, interpolation='bilinear')\n",
        "    plt.title(title)\n",
        "    plt.axis('off')\n",
        "    plt.show()\n",
        "\n",
        "generate_word_cloud(' '.join(positive_reviews), 'Positive Sentiment')\n",
        "generate_word_cloud(' '.join(neutral_reviews), 'Neutral Sentiment')\n",
        "generate_word_cloud(' '.join(negative_reviews), 'Negative Sentiment')"
      ]
    },
    {
      "cell_type": "code",
      "execution_count": null,
      "metadata": {
        "id": "t3Z63uf2gteU"
      },
      "outputs": [],
      "source": [
        "# word clouds for the intersection of positive and negative reviews\n",
        "intersection_reviews = positive_reviews[positive_reviews.isin(negative_reviews)]\n",
        "generate_word_cloud(' '.join(intersection_reviews), 'Intersection of Positive and Negative Reviews')"
      ]
    },
    {
      "cell_type": "code",
      "execution_count": null,
      "metadata": {
        "id": "T77siWk51RLx"
      },
      "outputs": [],
      "source": [
        "# top 10 reviewers with the most vote counts\n",
        "df['vote'] = df['vote'].str.replace(',', '').fillna(0).astype(float)\n",
        "top_10_reviewers = df.groupby('reviewerName')['vote'].sum().sort_values(ascending=False).head(10)\n",
        "print(top_10_reviewers)"
      ]
    },
    {
      "cell_type": "code",
      "execution_count": null,
      "metadata": {
        "colab": {
          "background_save": true
        },
        "id": "0xHQZbFIi1uf",
        "outputId": "00c421e9-428f-4042-9ffd-a95ec0f4a823"
      },
      "outputs": [
        {
          "data": {
            "image/png": "[encoded data removed]",
            "text/plain": [
              "<Figure size 640x480 with 1 Axes>"
            ]
          },
          "metadata": {},
          "output_type": "display_data"
        }
      ],
      "source": [
        "plt.hist(df[\"reviewText\"].str.len(), bins=10, edgecolor=\"black\")\n",
        "plt.xlabel(\"text length\")\n",
        "plt.ylabel(\"number fo reviews\")\n",
        "plt.title(\"histogram of text length\")\n",
        "plt.show()\n",
        "\n",
        "# top_10_products = df[df[\"overall\"] == 5].groupby([\"نام_برند\", \"نام_محصول\"]).size().nlargest(10)\n",
        "# print(top_10_products)\n",
        "\n",
        "# # تحلیل شماره ۶: پیدا کردن ۱۰ برند با بیشترین تعداد نظر و محاسبه میانگین امتیاز هر کدام\n",
        "# top_10_brands = df.groupby(\"نام_برند\").agg({\"تعداد_نظر\": \"sum\", \"امتیاز\": \"mean\"}).nlargest(10, \"تعداد_نظر\")\n",
        "# print(top_10_brands)\n"
      ]
    },
    {
      "cell_type": "code",
      "execution_count": null,
      "metadata": {
        "id": "6yIhSu0fbyG9"
      },
      "outputs": [],
      "source": [
        "# Find the top 10 products with the most vote counts\n",
        "top_10_products = df.groupby('asin')['vote'].sum().sort_values(ascending=False).head(10)\n",
        "print(top_10_products)\n",
        "\n",
        "# Find the top 10 brands with the most vote counts\n",
        "top_10_brands = df.groupby('brand')['vote'].sum().sort_values(ascending=False).head(10)\n",
        "print(top_10_brands)\n"
      ]
    },
    {
      "cell_type": "code",
      "execution_count": null,
      "metadata": {
        "colab": {
          "background_save": true
        },
        "id": "tP3EuQLf7ufw"
      },
      "outputs": [],
      "source": [
        "df1 = pd.read_csv('extra_data.csv')\n",
        "df1.head()"
      ]
    }
  ],
  "metadata": {
    "colab": {
      "provenance": [],
      "authorship_tag": "ABX9TyOY3HBkGNW9SCHyOs4D+Rle",
      "include_colab_link": true
    },
    "kernelspec": {
      "display_name": "Python 3",
      "name": "python3"
    },
    "language_info": {
      "name": "python"
    }
  },
  "nbformat": 4,
  "nbformat_minor": 0
}