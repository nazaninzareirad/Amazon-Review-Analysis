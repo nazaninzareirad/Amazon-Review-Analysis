{
  "cells": [
    {
      "cell_type": "code",
      "execution_count": 1,
      "metadata": {
        "id": "iSn-_NpvFiLa"
      },
      "outputs": [],
      "source": [
        "import matplotlib.pyplot as plt\n",
        "import numpy as np\n",
        "import pandas as pd\n",
        "from tensorflow import keras\n",
        "import os"
      ]
    },
    {
      "cell_type": "code",
      "execution_count": 2,
      "metadata": {
        "colab": {
          "base_uri": "https://localhost:8080/"
        },
        "id": "YQz31kB4vA1Z",
        "outputId": "2fa09d75-08cc-4c0e-c1a1-2f288cab24cc"
      },
      "outputs": [
        {
          "output_type": "stream",
          "name": "stdout",
          "text": [
            "Mounted at /content/drive\n"
          ]
        }
      ],
      "source": [
        "from google.colab import drive\n",
        "drive.mount('/content/drive')"
      ]
    },
    {
      "cell_type": "code",
      "execution_count": 3,
      "metadata": {
        "id": "KMxYODWRFw0O"
      },
      "outputs": [],
      "source": [
        "!unzip -q \"/content/drive/MyDrive/train_data.zip\""
      ]
    },
    {
      "cell_type": "code",
      "execution_count": null,
      "metadata": {
        "id": "4q33f-yO7h-j"
      },
      "outputs": [],
      "source": []
    },
    {
      "cell_type": "code",
      "execution_count": 4,
      "metadata": {
        "id": "_C-UHrhE0HTz"
      },
      "outputs": [],
      "source": [
        "img_gen = keras.preprocessing.image.ImageDataGenerator(\n",
        "    rescale=1./255,\n",
        "    horizontal_flip=True,\n",
        "    validation_split=0.2\n",
        ")"
      ]
    },
    {
      "cell_type": "code",
      "execution_count": 10,
      "metadata": {
        "colab": {
          "base_uri": "https://localhost:8080/"
        },
        "id": "X1BzS7_o0aW1",
        "outputId": "5b5954ca-7c97-4628-9a1a-d2774cad603e"
      },
      "outputs": [
        {
          "output_type": "stream",
          "name": "stdout",
          "text": [
            "Found 7994 images belonging to 10 classes.\n",
            "Found 1996 images belonging to 10 classes.\n"
          ]
        }
      ],
      "source": [
        "BATCH_SIZE = 40\n",
        "train_ds = img_gen.flow_from_directory(directory = '/content/train_data' , batch_size = BATCH_SIZE ,\n",
        "                                       shuffle = True , class_mode = 'sparse' ,\n",
        "                                       target_size = (299,299) , subset = 'training' , seed = 42)\n",
        "val_ds = img_gen.flow_from_directory(directory = '/content/train_data' , batch_size = BATCH_SIZE ,\n",
        "                                     shuffle = False  , class_mode = 'sparse' ,\n",
        "                                     target_size = (299,299) , subset = 'validation', seed = 42)"
      ]
    },
    {
      "cell_type": "code",
      "execution_count": 11,
      "metadata": {
        "id": "hQF-JYT64ZJ-"
      },
      "outputs": [],
      "source": [
        "from keras.src.saving.saving_lib import optimizer\n",
        "from keras.applications.inception_resnet_v2 import InceptionResNetV2\n",
        "\n",
        "num_classes = 10\n",
        "base_model_1 = InceptionResNetV2(weights='imagenet' , include_top = False)\n",
        "x = base_model_1.output\n",
        "x = keras.layers.GlobalAveragePooling2D()(x)\n",
        "x = keras.layers.Dense(1024, activation='relu')(x)\n",
        "predictions = keras.layers.Dense(num_classes, activation='softmax')(x)\n",
        "model_1 = keras.Model(inputs=base_model_1.input, outputs=predictions)\n",
        "model_1.compile(loss = 'sparse_categorical_crossentropy' ,\n",
        "                     optimizer = 'sgd' , metrics = ['accuracy'])\n",
        "for layer in model_1.layers[:775] :\n",
        "  layer.trainable = False\n",
        "for layer in model_1.layers[775:] :\n",
        "  layer.trainable = True\n",
        "check_inc_res = keras.callbacks.ModelCheckpoint('/content/drive/MyDrive/inc_res_v2_1.h5', monitor='val_accuracy', save_best_only=False)"
      ]
    },
    {
      "cell_type": "code",
      "execution_count": 12,
      "metadata": {
        "colab": {
          "base_uri": "https://localhost:8080/"
        },
        "id": "maT0HP9k38MA",
        "outputId": "05921f02-0d92-46dc-b3a9-1be2839a324d"
      },
      "outputs": [
        {
          "output_type": "stream",
          "name": "stdout",
          "text": [
            "Epoch 1/25\n",
            "200/200 [==============================] - ETA: 0s - loss: 1.8706 - accuracy: 0.3852"
          ]
        },
        {
          "output_type": "stream",
          "name": "stderr",
          "text": [
            "/usr/local/lib/python3.10/dist-packages/keras/src/engine/training.py:3079: UserWarning: You are saving your model as an HDF5 file via `model.save()`. This file format is considered legacy. We recommend using instead the native Keras format, e.g. `model.save('my_model.keras')`.\n",
            "  saving_api.save_model(\n"
          ]
        },
        {
          "output_type": "stream",
          "name": "stdout",
          "text": [
            "\b\b\b\b\b\b\b\b\b\b\b\b\b\b\b\b\b\b\b\b\b\b\b\b\b\b\b\b\b\b\b\b\b\b\b\b\b\b\b\b\b\b\b\b\b\b\b\b\b\b\b\b\b\b\b\b\b\b\b\b\b\b\b\b\b\b\b\b\b\b\b\b\b\b\b\b\b\b\b\b\b\b\b\b\r200/200 [==============================] - 393s 2s/step - loss: 1.8706 - accuracy: 0.3852 - val_loss: 1.4889 - val_accuracy: 0.5020\n",
            "Epoch 2/25\n",
            "200/200 [==============================] - 319s 2s/step - loss: 1.3281 - accuracy: 0.5630 - val_loss: 1.5066 - val_accuracy: 0.4970\n",
            "Epoch 3/25\n",
            "200/200 [==============================] - 321s 2s/step - loss: 1.0826 - accuracy: 0.6420 - val_loss: 1.1926 - val_accuracy: 0.6057\n",
            "Epoch 4/25\n",
            "200/200 [==============================] - 318s 2s/step - loss: 0.8691 - accuracy: 0.7138 - val_loss: 1.1725 - val_accuracy: 0.6137\n",
            "Epoch 5/25\n",
            "200/200 [==============================] - 336s 2s/step - loss: 0.7034 - accuracy: 0.7713 - val_loss: 1.1803 - val_accuracy: 0.6197\n",
            "Epoch 6/25\n",
            "200/200 [==============================] - 342s 2s/step - loss: 0.5279 - accuracy: 0.8335 - val_loss: 1.3329 - val_accuracy: 0.6373\n",
            "Epoch 7/25\n",
            "200/200 [==============================] - 320s 2s/step - loss: 0.3790 - accuracy: 0.8844 - val_loss: 1.2027 - val_accuracy: 0.6463\n",
            "Epoch 8/25\n",
            "200/200 [==============================] - 320s 2s/step - loss: 0.2547 - accuracy: 0.9261 - val_loss: 1.2810 - val_accuracy: 0.6508\n",
            "Epoch 9/25\n",
            "200/200 [==============================] - 338s 2s/step - loss: 0.1838 - accuracy: 0.9456 - val_loss: 1.4442 - val_accuracy: 0.6253\n",
            "Epoch 10/25\n",
            "200/200 [==============================] - 316s 2s/step - loss: 0.1240 - accuracy: 0.9662 - val_loss: 1.4350 - val_accuracy: 0.6523\n",
            "Epoch 11/25\n",
            "200/200 [==============================] - 339s 2s/step - loss: 0.0920 - accuracy: 0.9760 - val_loss: 1.5018 - val_accuracy: 0.6478\n",
            "Epoch 12/25\n",
            "200/200 [==============================] - 318s 2s/step - loss: 0.0686 - accuracy: 0.9820 - val_loss: 1.5347 - val_accuracy: 0.6373\n",
            "Epoch 13/25\n",
            "200/200 [==============================] - 338s 2s/step - loss: 0.0542 - accuracy: 0.9872 - val_loss: 1.6039 - val_accuracy: 0.6378\n",
            "Epoch 14/25\n",
            "200/200 [==============================] - 318s 2s/step - loss: 0.0545 - accuracy: 0.9851 - val_loss: 1.7246 - val_accuracy: 0.6032\n",
            "Epoch 15/25\n",
            "200/200 [==============================] - 320s 2s/step - loss: 0.0609 - accuracy: 0.9812 - val_loss: 1.6622 - val_accuracy: 0.6453\n",
            "Epoch 16/25\n",
            "200/200 [==============================] - 323s 2s/step - loss: 0.0441 - accuracy: 0.9887 - val_loss: 1.7081 - val_accuracy: 0.6483\n",
            "Epoch 17/25\n",
            "200/200 [==============================] - 337s 2s/step - loss: 0.0272 - accuracy: 0.9952 - val_loss: 1.7390 - val_accuracy: 0.6513\n",
            "Epoch 18/25\n",
            "200/200 [==============================] - 321s 2s/step - loss: 0.0300 - accuracy: 0.9917 - val_loss: 1.7722 - val_accuracy: 0.6398\n",
            "Epoch 19/25\n",
            "200/200 [==============================] - 323s 2s/step - loss: 0.0227 - accuracy: 0.9950 - val_loss: 1.7930 - val_accuracy: 0.6473\n",
            "Epoch 20/25\n",
            "200/200 [==============================] - 317s 2s/step - loss: 0.0210 - accuracy: 0.9951 - val_loss: 1.7749 - val_accuracy: 0.6508\n",
            "Epoch 21/25\n",
            "200/200 [==============================] - 320s 2s/step - loss: 0.0148 - accuracy: 0.9969 - val_loss: 1.8362 - val_accuracy: 0.6463\n",
            "Epoch 22/25\n",
            "200/200 [==============================] - 317s 2s/step - loss: 0.0155 - accuracy: 0.9960 - val_loss: 1.7865 - val_accuracy: 0.6478\n",
            "Epoch 23/25\n",
            "200/200 [==============================] - 319s 2s/step - loss: 0.0183 - accuracy: 0.9950 - val_loss: 1.8299 - val_accuracy: 0.6453\n",
            "Epoch 24/25\n",
            "200/200 [==============================] - 323s 2s/step - loss: 0.0182 - accuracy: 0.9951 - val_loss: 1.8830 - val_accuracy: 0.6458\n",
            "Epoch 25/25\n",
            "200/200 [==============================] - 337s 2s/step - loss: 0.0171 - accuracy: 0.9951 - val_loss: 1.8516 - val_accuracy: 0.6428\n"
          ]
        }
      ],
      "source": [
        "history = model_1.fit(train_ds , validation_data = val_ds , epochs = 25 , callbacks=[check_inc_res] )"
      ]
    }
  ],
  "metadata": {
    "accelerator": "GPU",
    "colab": {
      "gpuType": "T4",
      "provenance": []
    },
    "kernelspec": {
      "display_name": "Python 3",
      "name": "python3"
    },
    "language_info": {
      "codemirror_mode": {
        "name": "ipython",
        "version": 3
      },
      "file_extension": ".py",
      "mimetype": "text/x-python",
      "name": "python",
      "nbconvert_exporter": "python",
      "pygments_lexer": "ipython3",
      "version": "3.10.9"
    }
  },
  "nbformat": 4,
  "nbformat_minor": 0
}