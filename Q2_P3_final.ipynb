{
  "nbformat": 4,
  "nbformat_minor": 0,
  "metadata": {
    "colab": {
      "provenance": [],
      "gpuType": "T4",
      "authorship_tag": "ABX9TyOJ63c2rsml//IFe5F0PeG1",
      "include_colab_link": true
    },
    "kernelspec": {
      "name": "python3",
      "display_name": "Python 3"
    },
    "language_info": {
      "name": "python"
    },
    "accelerator": "GPU",
    "widgets": {
      "application/vnd.jupyter.widget-state+json": {
        "1c668964d2994cd7964c0ef525722be1": {
          "model_module": "@jupyter-widgets/controls",
          "model_name": "HBoxModel",
          "model_module_version": "1.5.0",
          "state": {
            "_dom_classes": [],
            "_model_module": "@jupyter-widgets/controls",
            "_model_module_version": "1.5.0",
            "_model_name": "HBoxModel",
            "_view_count": null,
            "_view_module": "@jupyter-widgets/controls",
            "_view_module_version": "1.5.0",
            "_view_name": "HBoxView",
            "box_style": "",
            "children": [
              "IPY_MODEL_182aca1c77bb41418d0cba9758a46037",
              "IPY_MODEL_5b40a51dae954db3979d33e35c41ffbe",
              "IPY_MODEL_d7c894306d244ce7a0665c1bb1cfbf3c"
            ],
            "layout": "IPY_MODEL_9248ab45a4074c9bb826c2a4f784d050"
          }
        },
        "182aca1c77bb41418d0cba9758a46037": {
          "model_module": "@jupyter-widgets/controls",
          "model_name": "HTMLModel",
          "model_module_version": "1.5.0",
          "state": {
            "_dom_classes": [],
            "_model_module": "@jupyter-widgets/controls",
            "_model_module_version": "1.5.0",
            "_model_name": "HTMLModel",
            "_view_count": null,
            "_view_module": "@jupyter-widgets/controls",
            "_view_module_version": "1.5.0",
            "_view_name": "HTMLView",
            "description": "",
            "description_tooltip": null,
            "layout": "IPY_MODEL_63ffe966a0454b1e9c1dcb62b33e7e44",
            "placeholder": "​",
            "style": "IPY_MODEL_1463b741d391463592a59a5dca4490dc",
            "value": ""
          }
        },
        "5b40a51dae954db3979d33e35c41ffbe": {
          "model_module": "@jupyter-widgets/controls",
          "model_name": "FloatProgressModel",
          "model_module_version": "1.5.0",
          "state": {
            "_dom_classes": [],
            "_model_module": "@jupyter-widgets/controls",
            "_model_module_version": "1.5.0",
            "_model_name": "FloatProgressModel",
            "_view_count": null,
            "_view_module": "@jupyter-widgets/controls",
            "_view_module_version": "1.5.0",
            "_view_name": "ProgressView",
            "bar_style": "success",
            "description": "",
            "description_tooltip": null,
            "layout": "IPY_MODEL_da4eb94a98294c97a08a808acdaa9677",
            "max": 1,
            "min": 0,
            "orientation": "horizontal",
            "style": "IPY_MODEL_35d1d02e3dae470b888cfa963485bf3a",
            "value": 1
          }
        },
        "d7c894306d244ce7a0665c1bb1cfbf3c": {
          "model_module": "@jupyter-widgets/controls",
          "model_name": "HTMLModel",
          "model_module_version": "1.5.0",
          "state": {
            "_dom_classes": [],
            "_model_module": "@jupyter-widgets/controls",
            "_model_module_version": "1.5.0",
            "_model_name": "HTMLModel",
            "_view_count": null,
            "_view_module": "@jupyter-widgets/controls",
            "_view_module_version": "1.5.0",
            "_view_name": "HTMLView",
            "description": "",
            "description_tooltip": null,
            "layout": "IPY_MODEL_655a2b6c31c648ecabe5b5d5867e648a",
            "placeholder": "​",
            "style": "IPY_MODEL_83222afa0a394c019b345c4bfe40d725",
            "value": " 1917494/? [02:25&lt;00:00, 12959.69it/s]"
          }
        },
        "9248ab45a4074c9bb826c2a4f784d050": {
          "model_module": "@jupyter-widgets/base",
          "model_name": "LayoutModel",
          "model_module_version": "1.2.0",
          "state": {
            "_model_module": "@jupyter-widgets/base",
            "_model_module_version": "1.2.0",
            "_model_name": "LayoutModel",
            "_view_count": null,
            "_view_module": "@jupyter-widgets/base",
            "_view_module_version": "1.2.0",
            "_view_name": "LayoutView",
            "align_content": null,
            "align_items": null,
            "align_self": null,
            "border": null,
            "bottom": null,
            "display": null,
            "flex": null,
            "flex_flow": null,
            "grid_area": null,
            "grid_auto_columns": null,
            "grid_auto_flow": null,
            "grid_auto_rows": null,
            "grid_column": null,
            "grid_gap": null,
            "grid_row": null,
            "grid_template_areas": null,
            "grid_template_columns": null,
            "grid_template_rows": null,
            "height": null,
            "justify_content": null,
            "justify_items": null,
            "left": null,
            "margin": null,
            "max_height": null,
            "max_width": null,
            "min_height": null,
            "min_width": null,
            "object_fit": null,
            "object_position": null,
            "order": null,
            "overflow": null,
            "overflow_x": null,
            "overflow_y": null,
            "padding": null,
            "right": null,
            "top": null,
            "visibility": null,
            "width": null
          }
        },
        "63ffe966a0454b1e9c1dcb62b33e7e44": {
          "model_module": "@jupyter-widgets/base",
          "model_name": "LayoutModel",
          "model_module_version": "1.2.0",
          "state": {
            "_model_module": "@jupyter-widgets/base",
            "_model_module_version": "1.2.0",
            "_model_name": "LayoutModel",
            "_view_count": null,
            "_view_module": "@jupyter-widgets/base",
            "_view_module_version": "1.2.0",
            "_view_name": "LayoutView",
            "align_content": null,
            "align_items": null,
            "align_self": null,
            "border": null,
            "bottom": null,
            "display": null,
            "flex": null,
            "flex_flow": null,
            "grid_area": null,
            "grid_auto_columns": null,
            "grid_auto_flow": null,
            "grid_auto_rows": null,
            "grid_column": null,
            "grid_gap": null,
            "grid_row": null,
            "grid_template_areas": null,
            "grid_template_columns": null,
            "grid_template_rows": null,
            "height": null,
            "justify_content": null,
            "justify_items": null,
            "left": null,
            "margin": null,
            "max_height": null,
            "max_width": null,
            "min_height": null,
            "min_width": null,
            "object_fit": null,
            "object_position": null,
            "order": null,
            "overflow": null,
            "overflow_x": null,
            "overflow_y": null,
            "padding": null,
            "right": null,
            "top": null,
            "visibility": null,
            "width": null
          }
        },
        "1463b741d391463592a59a5dca4490dc": {
          "model_module": "@jupyter-widgets/controls",
          "model_name": "DescriptionStyleModel",
          "model_module_version": "1.5.0",
          "state": {
            "_model_module": "@jupyter-widgets/controls",
            "_model_module_version": "1.5.0",
            "_model_name": "DescriptionStyleModel",
            "_view_count": null,
            "_view_module": "@jupyter-widgets/base",
            "_view_module_version": "1.2.0",
            "_view_name": "StyleView",
            "description_width": ""
          }
        },
        "da4eb94a98294c97a08a808acdaa9677": {
          "model_module": "@jupyter-widgets/base",
          "model_name": "LayoutModel",
          "model_module_version": "1.2.0",
          "state": {
            "_model_module": "@jupyter-widgets/base",
            "_model_module_version": "1.2.0",
            "_model_name": "LayoutModel",
            "_view_count": null,
            "_view_module": "@jupyter-widgets/base",
            "_view_module_version": "1.2.0",
            "_view_name": "LayoutView",
            "align_content": null,
            "align_items": null,
            "align_self": null,
            "border": null,
            "bottom": null,
            "display": null,
            "flex": null,
            "flex_flow": null,
            "grid_area": null,
            "grid_auto_columns": null,
            "grid_auto_flow": null,
            "grid_auto_rows": null,
            "grid_column": null,
            "grid_gap": null,
            "grid_row": null,
            "grid_template_areas": null,
            "grid_template_columns": null,
            "grid_template_rows": null,
            "height": null,
            "justify_content": null,
            "justify_items": null,
            "left": null,
            "margin": null,
            "max_height": null,
            "max_width": null,
            "min_height": null,
            "min_width": null,
            "object_fit": null,
            "object_position": null,
            "order": null,
            "overflow": null,
            "overflow_x": null,
            "overflow_y": null,
            "padding": null,
            "right": null,
            "top": null,
            "visibility": null,
            "width": "20px"
          }
        },
        "35d1d02e3dae470b888cfa963485bf3a": {
          "model_module": "@jupyter-widgets/controls",
          "model_name": "ProgressStyleModel",
          "model_module_version": "1.5.0",
          "state": {
            "_model_module": "@jupyter-widgets/controls",
            "_model_module_version": "1.5.0",
            "_model_name": "ProgressStyleModel",
            "_view_count": null,
            "_view_module": "@jupyter-widgets/base",
            "_view_module_version": "1.2.0",
            "_view_name": "StyleView",
            "bar_color": null,
            "description_width": ""
          }
        },
        "655a2b6c31c648ecabe5b5d5867e648a": {
          "model_module": "@jupyter-widgets/base",
          "model_name": "LayoutModel",
          "model_module_version": "1.2.0",
          "state": {
            "_model_module": "@jupyter-widgets/base",
            "_model_module_version": "1.2.0",
            "_model_name": "LayoutModel",
            "_view_count": null,
            "_view_module": "@jupyter-widgets/base",
            "_view_module_version": "1.2.0",
            "_view_name": "LayoutView",
            "align_content": null,
            "align_items": null,
            "align_self": null,
            "border": null,
            "bottom": null,
            "display": null,
            "flex": null,
            "flex_flow": null,
            "grid_area": null,
            "grid_auto_columns": null,
            "grid_auto_flow": null,
            "grid_auto_rows": null,
            "grid_column": null,
            "grid_gap": null,
            "grid_row": null,
            "grid_template_areas": null,
            "grid_template_columns": null,
            "grid_template_rows": null,
            "height": null,
            "justify_content": null,
            "justify_items": null,
            "left": null,
            "margin": null,
            "max_height": null,
            "max_width": null,
            "min_height": null,
            "min_width": null,
            "object_fit": null,
            "object_position": null,
            "order": null,
            "overflow": null,
            "overflow_x": null,
            "overflow_y": null,
            "padding": null,
            "right": null,
            "top": null,
            "visibility": null,
            "width": null
          }
        },
        "83222afa0a394c019b345c4bfe40d725": {
          "model_module": "@jupyter-widgets/controls",
          "model_name": "DescriptionStyleModel",
          "model_module_version": "1.5.0",
          "state": {
            "_model_module": "@jupyter-widgets/controls",
            "_model_module_version": "1.5.0",
            "_model_name": "DescriptionStyleModel",
            "_view_count": null,
            "_view_module": "@jupyter-widgets/base",
            "_view_module_version": "1.2.0",
            "_view_name": "StyleView",
            "description_width": ""
          }
        },
        "238314f165cd4394ab99a78863d8d179": {
          "model_module": "@jupyter-widgets/controls",
          "model_name": "HBoxModel",
          "model_module_version": "1.5.0",
          "state": {
            "_dom_classes": [],
            "_model_module": "@jupyter-widgets/controls",
            "_model_module_version": "1.5.0",
            "_model_name": "HBoxModel",
            "_view_count": null,
            "_view_module": "@jupyter-widgets/controls",
            "_view_module_version": "1.5.0",
            "_view_name": "HBoxView",
            "box_style": "",
            "children": [
              "IPY_MODEL_ce449ca1e9ad4c90a749a92ea1ec2c08",
              "IPY_MODEL_8aac469ab4a64124bc61b9bdd7a09f7f",
              "IPY_MODEL_4ee17c72a4364d88a8b4b3d5b84e08e3"
            ],
            "layout": "IPY_MODEL_e9ae3a5ecf58480e8b0fb0afdf50de5e"
          }
        },
        "ce449ca1e9ad4c90a749a92ea1ec2c08": {
          "model_module": "@jupyter-widgets/controls",
          "model_name": "HTMLModel",
          "model_module_version": "1.5.0",
          "state": {
            "_dom_classes": [],
            "_model_module": "@jupyter-widgets/controls",
            "_model_module_version": "1.5.0",
            "_model_name": "HTMLModel",
            "_view_count": null,
            "_view_module": "@jupyter-widgets/controls",
            "_view_module_version": "1.5.0",
            "_view_name": "HTMLView",
            "description": "",
            "description_tooltip": null,
            "layout": "IPY_MODEL_cb29d5e5fb584739a7ec2a9a251407f9",
            "placeholder": "​",
            "style": "IPY_MODEL_05df7b0bfabf41a5bf41a5e5271513bd",
            "value": "100%"
          }
        },
        "8aac469ab4a64124bc61b9bdd7a09f7f": {
          "model_module": "@jupyter-widgets/controls",
          "model_name": "FloatProgressModel",
          "model_module_version": "1.5.0",
          "state": {
            "_dom_classes": [],
            "_model_module": "@jupyter-widgets/controls",
            "_model_module_version": "1.5.0",
            "_model_name": "FloatProgressModel",
            "_view_count": null,
            "_view_module": "@jupyter-widgets/controls",
            "_view_module_version": "1.5.0",
            "_view_name": "ProgressView",
            "bar_style": "success",
            "description": "",
            "description_tooltip": null,
            "layout": "IPY_MODEL_d82346fa64ac4afc93291d91fac391bf",
            "max": 422019,
            "min": 0,
            "orientation": "horizontal",
            "style": "IPY_MODEL_33d7c76ef35341cfa6e2a1cac42a243e",
            "value": 422019
          }
        },
        "4ee17c72a4364d88a8b4b3d5b84e08e3": {
          "model_module": "@jupyter-widgets/controls",
          "model_name": "HTMLModel",
          "model_module_version": "1.5.0",
          "state": {
            "_dom_classes": [],
            "_model_module": "@jupyter-widgets/controls",
            "_model_module_version": "1.5.0",
            "_model_name": "HTMLModel",
            "_view_count": null,
            "_view_module": "@jupyter-widgets/controls",
            "_view_module_version": "1.5.0",
            "_view_name": "HTMLView",
            "description": "",
            "description_tooltip": null,
            "layout": "IPY_MODEL_24160273a5c44fabaab5a757e1acf18f",
            "placeholder": "​",
            "style": "IPY_MODEL_31d4133dd18e4e2ba4061a9c2174b96d",
            "value": " 422019/422019 [00:00&lt;00:00, 629915.03it/s]"
          }
        },
        "e9ae3a5ecf58480e8b0fb0afdf50de5e": {
          "model_module": "@jupyter-widgets/base",
          "model_name": "LayoutModel",
          "model_module_version": "1.2.0",
          "state": {
            "_model_module": "@jupyter-widgets/base",
            "_model_module_version": "1.2.0",
            "_model_name": "LayoutModel",
            "_view_count": null,
            "_view_module": "@jupyter-widgets/base",
            "_view_module_version": "1.2.0",
            "_view_name": "LayoutView",
            "align_content": null,
            "align_items": null,
            "align_self": null,
            "border": null,
            "bottom": null,
            "display": null,
            "flex": null,
            "flex_flow": null,
            "grid_area": null,
            "grid_auto_columns": null,
            "grid_auto_flow": null,
            "grid_auto_rows": null,
            "grid_column": null,
            "grid_gap": null,
            "grid_row": null,
            "grid_template_areas": null,
            "grid_template_columns": null,
            "grid_template_rows": null,
            "height": null,
            "justify_content": null,
            "justify_items": null,
            "left": null,
            "margin": null,
            "max_height": null,
            "max_width": null,
            "min_height": null,
            "min_width": null,
            "object_fit": null,
            "object_position": null,
            "order": null,
            "overflow": null,
            "overflow_x": null,
            "overflow_y": null,
            "padding": null,
            "right": null,
            "top": null,
            "visibility": null,
            "width": null
          }
        },
        "cb29d5e5fb584739a7ec2a9a251407f9": {
          "model_module": "@jupyter-widgets/base",
          "model_name": "LayoutModel",
          "model_module_version": "1.2.0",
          "state": {
            "_model_module": "@jupyter-widgets/base",
            "_model_module_version": "1.2.0",
            "_model_name": "LayoutModel",
            "_view_count": null,
            "_view_module": "@jupyter-widgets/base",
            "_view_module_version": "1.2.0",
            "_view_name": "LayoutView",
            "align_content": null,
            "align_items": null,
            "align_self": null,
            "border": null,
            "bottom": null,
            "display": null,
            "flex": null,
            "flex_flow": null,
            "grid_area": null,
            "grid_auto_columns": null,
            "grid_auto_flow": null,
            "grid_auto_rows": null,
            "grid_column": null,
            "grid_gap": null,
            "grid_row": null,
            "grid_template_areas": null,
            "grid_template_columns": null,
            "grid_template_rows": null,
            "height": null,
            "justify_content": null,
            "justify_items": null,
            "left": null,
            "margin": null,
            "max_height": null,
            "max_width": null,
            "min_height": null,
            "min_width": null,
            "object_fit": null,
            "object_position": null,
            "order": null,
            "overflow": null,
            "overflow_x": null,
            "overflow_y": null,
            "padding": null,
            "right": null,
            "top": null,
            "visibility": null,
            "width": null
          }
        },
        "05df7b0bfabf41a5bf41a5e5271513bd": {
          "model_module": "@jupyter-widgets/controls",
          "model_name": "DescriptionStyleModel",
          "model_module_version": "1.5.0",
          "state": {
            "_model_module": "@jupyter-widgets/controls",
            "_model_module_version": "1.5.0",
            "_model_name": "DescriptionStyleModel",
            "_view_count": null,
            "_view_module": "@jupyter-widgets/base",
            "_view_module_version": "1.2.0",
            "_view_name": "StyleView",
            "description_width": ""
          }
        },
        "d82346fa64ac4afc93291d91fac391bf": {
          "model_module": "@jupyter-widgets/base",
          "model_name": "LayoutModel",
          "model_module_version": "1.2.0",
          "state": {
            "_model_module": "@jupyter-widgets/base",
            "_model_module_version": "1.2.0",
            "_model_name": "LayoutModel",
            "_view_count": null,
            "_view_module": "@jupyter-widgets/base",
            "_view_module_version": "1.2.0",
            "_view_name": "LayoutView",
            "align_content": null,
            "align_items": null,
            "align_self": null,
            "border": null,
            "bottom": null,
            "display": null,
            "flex": null,
            "flex_flow": null,
            "grid_area": null,
            "grid_auto_columns": null,
            "grid_auto_flow": null,
            "grid_auto_rows": null,
            "grid_column": null,
            "grid_gap": null,
            "grid_row": null,
            "grid_template_areas": null,
            "grid_template_columns": null,
            "grid_template_rows": null,
            "height": null,
            "justify_content": null,
            "justify_items": null,
            "left": null,
            "margin": null,
            "max_height": null,
            "max_width": null,
            "min_height": null,
            "min_width": null,
            "object_fit": null,
            "object_position": null,
            "order": null,
            "overflow": null,
            "overflow_x": null,
            "overflow_y": null,
            "padding": null,
            "right": null,
            "top": null,
            "visibility": null,
            "width": null
          }
        },
        "33d7c76ef35341cfa6e2a1cac42a243e": {
          "model_module": "@jupyter-widgets/controls",
          "model_name": "ProgressStyleModel",
          "model_module_version": "1.5.0",
          "state": {
            "_model_module": "@jupyter-widgets/controls",
            "_model_module_version": "1.5.0",
            "_model_name": "ProgressStyleModel",
            "_view_count": null,
            "_view_module": "@jupyter-widgets/base",
            "_view_module_version": "1.2.0",
            "_view_name": "StyleView",
            "bar_color": null,
            "description_width": ""
          }
        },
        "24160273a5c44fabaab5a757e1acf18f": {
          "model_module": "@jupyter-widgets/base",
          "model_name": "LayoutModel",
          "model_module_version": "1.2.0",
          "state": {
            "_model_module": "@jupyter-widgets/base",
            "_model_module_version": "1.2.0",
            "_model_name": "LayoutModel",
            "_view_count": null,
            "_view_module": "@jupyter-widgets/base",
            "_view_module_version": "1.2.0",
            "_view_name": "LayoutView",
            "align_content": null,
            "align_items": null,
            "align_self": null,
            "border": null,
            "bottom": null,
            "display": null,
            "flex": null,
            "flex_flow": null,
            "grid_area": null,
            "grid_auto_columns": null,
            "grid_auto_flow": null,
            "grid_auto_rows": null,
            "grid_column": null,
            "grid_gap": null,
            "grid_row": null,
            "grid_template_areas": null,
            "grid_template_columns": null,
            "grid_template_rows": null,
            "height": null,
            "justify_content": null,
            "justify_items": null,
            "left": null,
            "margin": null,
            "max_height": null,
            "max_width": null,
            "min_height": null,
            "min_width": null,
            "object_fit": null,
            "object_position": null,
            "order": null,
            "overflow": null,
            "overflow_x": null,
            "overflow_y": null,
            "padding": null,
            "right": null,
            "top": null,
            "visibility": null,
            "width": null
          }
        },
        "31d4133dd18e4e2ba4061a9c2174b96d": {
          "model_module": "@jupyter-widgets/controls",
          "model_name": "DescriptionStyleModel",
          "model_module_version": "1.5.0",
          "state": {
            "_model_module": "@jupyter-widgets/controls",
            "_model_module_version": "1.5.0",
            "_model_name": "DescriptionStyleModel",
            "_view_count": null,
            "_view_module": "@jupyter-widgets/base",
            "_view_module_version": "1.2.0",
            "_view_name": "StyleView",
            "description_width": ""
          }
        }
      }
    }
  },
  "cells": [
    {
      "cell_type": "markdown",
      "metadata": {
        "id": "view-in-github",
        "colab_type": "text"
      },
      "source": [
        "<a href=\"https://colab.research.google.com/github/nazaninzareirad/Amazon-Review-Analysis/blob/NLP/Q2_P3_final.ipynb\" target=\"_parent\"><img src=\"https://colab.research.google.com/assets/colab-badge.svg\" alt=\"Open In Colab\"/></a>"
      ]
    },
    {
      "cell_type": "code",
      "execution_count": 2,
      "metadata": {
        "colab": {
          "base_uri": "https://localhost:8080/"
        },
        "id": "SVTW22l3kvlK",
        "outputId": "e5e0d1ae-44a9-495b-b133-4dc46bf0186f"
      },
      "outputs": [
        {
          "output_type": "stream",
          "name": "stderr",
          "text": [
            "Downloading...\n",
            "From: https://drive.google.com/uc?id=1-F7f9oSjFx0Si44DvdkzFhjjwfro_Y1p\n",
            "To: /content/train_data.csv\n",
            "100%|██████████| 635M/635M [00:08<00:00, 74.0MB/s]\n"
          ]
        },
        {
          "output_type": "execute_result",
          "data": {
            "text/plain": [
              "Index(['overall', 'vote', 'verified', 'reviewTime', 'reviewerID', 'asin',\n",
              "       'style', 'reviewerName', 'reviewText', 'summary', 'unixReviewTime'],\n",
              "      dtype='object')"
            ]
          },
          "metadata": {},
          "execution_count": 2
        }
      ],
      "source": [
        "# Import necessary libraries\n",
        "import pandas as pd\n",
        "import numpy as np\n",
        "import time\n",
        "from tqdm import tqdm\n",
        "import plotly.express as px\n",
        "import matplotlib.pyplot as plt\n",
        "from sklearn.model_selection import train_test_split\n",
        "from sklearn.feature_extraction.text import CountVectorizer\n",
        "from sklearn.naive_bayes import MultinomialNB\n",
        "from sklearn.pipeline import Pipeline\n",
        "from sklearn.metrics import accuracy_score, classification_report\n",
        "\n",
        "# Download the dataset\n",
        "import gdown\n",
        "\n",
        "google_drive_url = 'https://drive.google.com/file/d/1-F7f9oSjFx0Si44DvdkzFhjjwfro_Y1p/view?usp=sharing'\n",
        "file_id = google_drive_url.split(\"/\")[-2]\n",
        "output = 'train_data.csv'\n",
        "gdown.download(f'https://drive.google.com/uc?id={file_id}', output, quiet=False)\n",
        "df = pd.read_csv(output, low_memory=False)\n",
        "df.columns"
      ]
    },
    {
      "cell_type": "code",
      "source": [
        "df['overall'] = df['overall'].map({1: 0, 2: 1, 3: 2, 4: 3, 5: 4})\n",
        "\n",
        "# Fill missing values\n",
        "df['summary'] = df['summary'].fillna('')\n",
        "df['reviewText'] = df['reviewText'].fillna('')\n",
        "\n",
        "df['full_text'] = df['summary'] + \" \" + df['reviewText']\n",
        "\n",
        "# Split training and validation sets\n",
        "y= df['overall']\n",
        "X = df['full_text']"
      ],
      "metadata": {
        "id": "Um3eWNNPlFsz"
      },
      "execution_count": 3,
      "outputs": []
    },
    {
      "cell_type": "code",
      "source": [
        "from nltk.stem import PorterStemmer\n",
        "import re\n",
        "stem = PorterStemmer()\n",
        "def clean_text(text):\n",
        "  text = re.sub(r\"[-()\\\"#/@;:<>{}=~|.?,]\", \"\", text)\n",
        "  text = stem.stem(text)\n",
        "  return text\n",
        "\n",
        "df['cleaned'] = df['full_text'].apply(clean_text)"
      ],
      "metadata": {
        "id": "4-llwXWlyTFc"
      },
      "execution_count": 4,
      "outputs": []
    },
    {
      "cell_type": "code",
      "source": [
        "\n",
        "X_train, X_val, y_train, y_val = train_test_split(df['cleaned'], y, test_size=0.2, random_state=42)"
      ],
      "metadata": {
        "id": "ZLNSIYZYyTI9"
      },
      "execution_count": 5,
      "outputs": []
    },
    {
      "cell_type": "code",
      "source": [
        "naive_bayes_model = Pipeline([\n",
        "    ('vectorizer', CountVectorizer()),\n",
        "    ('nb', MultinomialNB())\n",
        "])\n",
        "\n",
        "naive_bayes_model.fit(X_train, y_train)\n",
        "\n",
        "# Evaluate on the validation set\n",
        "y_pred_nb = naive_bayes_model.predict(X_val)\n",
        "\n",
        "accuracy_nb = accuracy_score(y_val, y_pred_nb)\n",
        "classification_report_nb = classification_report(y_val, y_pred_nb)\n",
        "\n",
        "print(f\"Naive Bayes Accuracy: {accuracy_nb}\")\n",
        "print(\"Classification Report:\")\n",
        "print(classification_report_nb)"
      ],
      "metadata": {
        "colab": {
          "base_uri": "https://localhost:8080/"
        },
        "id": "HmRpLY8flMgP",
        "outputId": "0fae117f-496b-42ee-c7e1-37c326a75888"
      },
      "execution_count": 6,
      "outputs": [
        {
          "output_type": "stream",
          "name": "stdout",
          "text": [
            "Naive Bayes Accuracy: 0.6462342585032392\n",
            "Classification Report:\n",
            "              precision    recall  f1-score   support\n",
            "\n",
            "           0       0.50      0.70      0.58     16572\n",
            "           1       0.37      0.07      0.12     11347\n",
            "           2       0.36      0.20      0.26     16109\n",
            "           3       0.41      0.46      0.44     31292\n",
            "           4       0.79      0.85      0.82     92469\n",
            "\n",
            "    accuracy                           0.65    167789\n",
            "   macro avg       0.49      0.46      0.44    167789\n",
            "weighted avg       0.62      0.65      0.62    167789\n",
            "\n"
          ]
        }
      ]
    },
    {
      "cell_type": "code",
      "source": [
        "import pandas as pd\n",
        "from sklearn.model_selection import train_test_split\n",
        "from sklearn.metrics import accuracy_score, classification_report\n",
        "from sklearn.feature_extraction.text import CountVectorizer\n",
        "from keras.models import Sequential\n",
        "from keras.layers import Embedding, Conv1D, GlobalMaxPooling1D, Dense, Dropout\n",
        "from keras.preprocessing.text import Tokenizer\n",
        "from keras.preprocessing.sequence import pad_sequences\n",
        "\n",
        "\n",
        "Y1h = pd.get_dummies(y)\n",
        "X_train, X_val, y_train, y_val = train_test_split(df['cleaned'], Y1h, test_size=0.2, random_state=42)\n",
        "print(y_val)"
      ],
      "metadata": {
        "colab": {
          "base_uri": "https://localhost:8080/"
        },
        "id": "OFloOphilRXV",
        "outputId": "06730c28-aa35-4169-8a70-ae516ffafb28"
      },
      "execution_count": 7,
      "outputs": [
        {
          "output_type": "stream",
          "name": "stdout",
          "text": [
            "        0  1  2  3  4\n",
            "479970  0  0  0  1  0\n",
            "529489  0  0  0  0  1\n",
            "380130  0  0  0  0  1\n",
            "568335  0  0  0  0  1\n",
            "355122  0  0  0  0  1\n",
            "...    .. .. .. .. ..\n",
            "784600  0  0  1  0  0\n",
            "263140  0  0  1  0  0\n",
            "458471  0  0  0  1  0\n",
            "485214  0  0  0  0  1\n",
            "618922  0  1  0  0  0\n",
            "\n",
            "[167789 rows x 5 columns]\n"
          ]
        }
      ]
    },
    {
      "cell_type": "code",
      "source": [
        "# Tokenize\n",
        "max_words = 10000\n",
        "tokenizer = Tokenizer(num_words=max_words)\n",
        "tokenizer.fit_on_texts(X_train)\n",
        "word_index = tokenizer.word_index\n",
        "vocabulary_size = len(word_index) + 1\n",
        "\n",
        "X_train_seq = tokenizer.texts_to_sequences(X_train)\n",
        "X_val_seq = tokenizer.texts_to_sequences(X_val)\n",
        "\n",
        "# Pad sequences for consistent length\n",
        "max_sequence_length = 100\n",
        "X_train_padded = pad_sequences(X_train_seq, maxlen=max_sequence_length)\n",
        "X_val_padded = pad_sequences(X_val_seq, maxlen=max_sequence_length)"
      ],
      "metadata": {
        "id": "KXG3YJKJmUTq"
      },
      "execution_count": 8,
      "outputs": []
    },
    {
      "cell_type": "code",
      "source": [
        "!wget https://nlp.stanford.edu/data/glove.42B.300d.zip"
      ],
      "metadata": {
        "colab": {
          "base_uri": "https://localhost:8080/"
        },
        "id": "GW5ibq_MmlWM",
        "outputId": "07692655-e5e8-4ed1-9fd1-d65dade3962e"
      },
      "execution_count": 9,
      "outputs": [
        {
          "output_type": "stream",
          "name": "stdout",
          "text": [
            "--2023-11-12 15:14:25--  https://nlp.stanford.edu/data/glove.42B.300d.zip\n",
            "Resolving nlp.stanford.edu (nlp.stanford.edu)... 171.64.67.140\n",
            "Connecting to nlp.stanford.edu (nlp.stanford.edu)|171.64.67.140|:443... connected.\n",
            "HTTP request sent, awaiting response... 301 Moved Permanently\n",
            "Location: https://downloads.cs.stanford.edu/nlp/data/glove.42B.300d.zip [following]\n",
            "--2023-11-12 15:14:26--  https://downloads.cs.stanford.edu/nlp/data/glove.42B.300d.zip\n",
            "Resolving downloads.cs.stanford.edu (downloads.cs.stanford.edu)... 171.64.64.22\n",
            "Connecting to downloads.cs.stanford.edu (downloads.cs.stanford.edu)|171.64.64.22|:443... connected.\n",
            "HTTP request sent, awaiting response... 200 OK\n",
            "Length: 1877800501 (1.7G) [application/zip]\n",
            "Saving to: ‘glove.42B.300d.zip’\n",
            "\n",
            "glove.42B.300d.zip  100%[===================>]   1.75G  5.18MB/s    in 5m 55s  \n",
            "\n",
            "2023-11-12 15:20:21 (5.05 MB/s) - ‘glove.42B.300d.zip’ saved [1877800501/1877800501]\n",
            "\n"
          ]
        }
      ]
    },
    {
      "cell_type": "code",
      "source": [
        "!unzip /content/glove.42B.300d.zip"
      ],
      "metadata": {
        "id": "BjOcyOoNnHOX",
        "outputId": "623302fa-5893-4f4f-9fef-eb047ce91eb7",
        "colab": {
          "base_uri": "https://localhost:8080/"
        }
      },
      "execution_count": 10,
      "outputs": [
        {
          "output_type": "stream",
          "name": "stdout",
          "text": [
            "Archive:  /content/glove.42B.300d.zip\n",
            "  inflating: glove.42B.300d.txt      \n"
          ]
        }
      ]
    },
    {
      "cell_type": "code",
      "source": [
        "from tqdm.notebook import tqdm\n",
        "embeddings_index = {}\n",
        "f = open('/content/glove.42B.300d.txt', encoding = 'utf8')\n",
        "for line in tqdm(f):\n",
        "    values = line.split()\n",
        "    word = values[0]\n",
        "    coefs = np.asarray(values[1:], dtype='float32')\n",
        "    embeddings_index[word] = coefs\n",
        "f.close()"
      ],
      "metadata": {
        "id": "7ytyvkIjoQES",
        "colab": {
          "base_uri": "https://localhost:8080/",
          "height": 49,
          "referenced_widgets": [
            "1c668964d2994cd7964c0ef525722be1",
            "182aca1c77bb41418d0cba9758a46037",
            "5b40a51dae954db3979d33e35c41ffbe",
            "d7c894306d244ce7a0665c1bb1cfbf3c",
            "9248ab45a4074c9bb826c2a4f784d050",
            "63ffe966a0454b1e9c1dcb62b33e7e44",
            "1463b741d391463592a59a5dca4490dc",
            "da4eb94a98294c97a08a808acdaa9677",
            "35d1d02e3dae470b888cfa963485bf3a",
            "655a2b6c31c648ecabe5b5d5867e648a",
            "83222afa0a394c019b345c4bfe40d725"
          ]
        },
        "outputId": "18264394-f839-439c-97c8-4c148aa4f873"
      },
      "execution_count": 11,
      "outputs": [
        {
          "output_type": "display_data",
          "data": {
            "text/plain": [
              "0it [00:00, ?it/s]"
            ],
            "application/vnd.jupyter.widget-view+json": {
              "version_major": 2,
              "version_minor": 0,
              "model_id": "1c668964d2994cd7964c0ef525722be1"
            }
          },
          "metadata": {}
        }
      ]
    },
    {
      "cell_type": "code",
      "source": [
        "word_index = tokenizer.word_index\n",
        "vocabulary_size = len(word_index) + 1\n",
        "embedding_matrix = np.random.random((vocabulary_size + 1, 300))\n",
        "\n",
        "for word, i in tqdm(word_index.items()):\n",
        "    embedding_vector = embeddings_index.get(word)\n",
        "    if embedding_vector is not None:\n",
        "        embedding_matrix[i] = embedding_vector"
      ],
      "metadata": {
        "id": "gTteYp3qouKX",
        "colab": {
          "base_uri": "https://localhost:8080/",
          "height": 49,
          "referenced_widgets": [
            "238314f165cd4394ab99a78863d8d179",
            "ce449ca1e9ad4c90a749a92ea1ec2c08",
            "8aac469ab4a64124bc61b9bdd7a09f7f",
            "4ee17c72a4364d88a8b4b3d5b84e08e3",
            "e9ae3a5ecf58480e8b0fb0afdf50de5e",
            "cb29d5e5fb584739a7ec2a9a251407f9",
            "05df7b0bfabf41a5bf41a5e5271513bd",
            "d82346fa64ac4afc93291d91fac391bf",
            "33d7c76ef35341cfa6e2a1cac42a243e",
            "24160273a5c44fabaab5a757e1acf18f",
            "31d4133dd18e4e2ba4061a9c2174b96d"
          ]
        },
        "outputId": "c490e808-b821-449b-c860-6b7973418eed"
      },
      "execution_count": 12,
      "outputs": [
        {
          "output_type": "display_data",
          "data": {
            "text/plain": [
              "  0%|          | 0/422019 [00:00<?, ?it/s]"
            ],
            "application/vnd.jupyter.widget-view+json": {
              "version_major": 2,
              "version_minor": 0,
              "model_id": "238314f165cd4394ab99a78863d8d179"
            }
          },
          "metadata": {}
        }
      ]
    },
    {
      "cell_type": "code",
      "source": [
        "from keras.layers import Dense, LSTM, Embedding, Dropout, Activation, GRU, Bidirectional, Input\n",
        "from keras.models import Model\n",
        "\n",
        "embedding_layer = Embedding(vocabulary_size + 1, 300, weights = [embedding_matrix], input_length = 100, trainable = True)\n",
        "\n",
        "# embedding layer is the first layer, it is followed by a gru layer and finally a regular dense output layer\n",
        "sequence_input = Input(shape = (100,), dtype = 'float64')\n",
        "embedded_sequences = embedding_layer(sequence_input)\n",
        "l_gru = Bidirectional(GRU(256))(embedded_sequences)\n",
        "preds = Dense(5, activation='softmax')(l_gru)\n",
        "model = Model(sequence_input, preds)\n",
        "model.compile(loss = 'categorical_crossentropy', optimizer='adam', metrics=['accuracy'])"
      ],
      "metadata": {
        "id": "9brcoWvtpdcq"
      },
      "execution_count": 13,
      "outputs": []
    },
    {
      "cell_type": "code",
      "source": [
        "model.fit(X_train_padded, y_train, validation_data = (X_val_padded, y_val), epochs = 8, batch_size = 64)"
      ],
      "metadata": {
        "id": "fUlT5R0OpjKW",
        "colab": {
          "base_uri": "https://localhost:8080/"
        },
        "outputId": "ab234584-7e2b-4c01-f99f-76ccc8bdc3f5"
      },
      "execution_count": 14,
      "outputs": [
        {
          "output_type": "stream",
          "name": "stdout",
          "text": [
            "Epoch 1/8\n",
            "10487/10487 [==============================] - 630s 59ms/step - loss: 0.7374 - accuracy: 0.7044 - val_loss: 0.6882 - val_accuracy: 0.7233\n",
            "Epoch 2/8\n",
            "10487/10487 [==============================] - 588s 56ms/step - loss: 0.6437 - accuracy: 0.7406 - val_loss: 0.6758 - val_accuracy: 0.7302\n",
            "Epoch 3/8\n",
            "10487/10487 [==============================] - 570s 54ms/step - loss: 0.5869 - accuracy: 0.7648 - val_loss: 0.6874 - val_accuracy: 0.7264\n",
            "Epoch 4/8\n",
            "10487/10487 [==============================] - 566s 54ms/step - loss: 0.5288 - accuracy: 0.7900 - val_loss: 0.7384 - val_accuracy: 0.7236\n",
            "Epoch 5/8\n",
            "10487/10487 [==============================] - 574s 55ms/step - loss: 0.4769 - accuracy: 0.8124 - val_loss: 0.7715 - val_accuracy: 0.7094\n",
            "Epoch 6/8\n",
            "10487/10487 [==============================] - 554s 53ms/step - loss: 0.4403 - accuracy: 0.8276 - val_loss: 0.8161 - val_accuracy: 0.7081\n",
            "Epoch 7/8\n",
            "10487/10487 [==============================] - 567s 54ms/step - loss: 0.4188 - accuracy: 0.8365 - val_loss: 0.8455 - val_accuracy: 0.7027\n",
            "Epoch 8/8\n",
            "10487/10487 [==============================] - 580s 55ms/step - loss: 0.4071 - accuracy: 0.8414 - val_loss: 0.8723 - val_accuracy: 0.6975\n"
          ]
        },
        {
          "output_type": "execute_result",
          "data": {
            "text/plain": [
              "<keras.src.callbacks.History at 0x7e6ff01a57b0>"
            ]
          },
          "metadata": {},
          "execution_count": 14
        }
      ]
    }
  ]
}