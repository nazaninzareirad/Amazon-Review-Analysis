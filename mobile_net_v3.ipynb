{
  "nbformat": 4,
  "nbformat_minor": 0,
  "metadata": {
    "colab": {
      "provenance": [],
      "gpuType": "T4"
    },
    "kernelspec": {
      "name": "python3",
      "display_name": "Python 3"
    },
    "language_info": {
      "name": "python"
    },
    "accelerator": "GPU"
  },
  "cells": [
    {
      "cell_type": "code",
      "execution_count": 4,
      "metadata": {
        "id": "iSn-_NpvFiLa"
      },
      "outputs": [],
      "source": [
        "import matplotlib.pyplot as plt\n",
        "import numpy as np\n",
        "import pandas as pd\n",
        "from tensorflow import keras\n",
        "import os"
      ]
    },
    {
      "cell_type": "code",
      "source": [
        "from google.colab import drive\n",
        "drive.mount('/content/drive')"
      ],
      "metadata": {
        "colab": {
          "base_uri": "https://localhost:8080/"
        },
        "id": "YQz31kB4vA1Z",
        "outputId": "81896130-7f93-43ea-af0d-7f45b5805ec2"
      },
      "execution_count": 5,
      "outputs": [
        {
          "output_type": "stream",
          "name": "stdout",
          "text": [
            "Mounted at /content/drive\n"
          ]
        }
      ]
    },
    {
      "cell_type": "code",
      "source": [
        "zip_PATH = \"/content/drive/MyDrive/train_data.zip\"\n",
        "save_PATH = \"/content/drive/MyDrive/mobile_net_v2_1.h5\"\n",
        "load_PATH = '/content/train_data'\n",
        "!unzip -q \"/content/drive/MyDrive/train_data.zip\""
      ],
      "metadata": {
        "id": "KMxYODWRFw0O"
      },
      "execution_count": 6,
      "outputs": []
    },
    {
      "cell_type": "code",
      "source": [],
      "metadata": {
        "id": "4q33f-yO7h-j"
      },
      "execution_count": null,
      "outputs": []
    },
    {
      "cell_type": "code",
      "source": [
        "img_gen = keras.preprocessing.image.ImageDataGenerator(\n",
        "    rescale=1./255,\n",
        "    horizontal_flip=True,\n",
        "    validation_split=0.2\n",
        ")"
      ],
      "metadata": {
        "id": "_C-UHrhE0HTz"
      },
      "execution_count": 7,
      "outputs": []
    },
    {
      "cell_type": "code",
      "source": [
        "BATCH_SIZE = 40\n",
        "\n",
        "train_ds = img_gen.flow_from_directory(directory = load_PATH , batch_size = BATCH_SIZE ,\n",
        "                                       shuffle = True , class_mode = 'sparse' ,\n",
        "                                       target_size = (299,299) , subset = 'training' , seed = 42)\n",
        "val_ds = img_gen.flow_from_directory(directory = load_PATH , batch_size = BATCH_SIZE ,\n",
        "                                     shuffle = False  , class_mode = 'sparse' ,\n",
        "                                     target_size = (299,299) , subset = 'validation', seed = 42)"
      ],
      "metadata": {
        "colab": {
          "base_uri": "https://localhost:8080/"
        },
        "id": "X1BzS7_o0aW1",
        "outputId": "f659667e-87de-48c0-861d-4f34cfa1e2bd"
      },
      "execution_count": 8,
      "outputs": [
        {
          "output_type": "stream",
          "name": "stdout",
          "text": [
            "Found 7994 images belonging to 10 classes.\n",
            "Found 1996 images belonging to 10 classes.\n"
          ]
        }
      ]
    },
    {
      "cell_type": "code",
      "source": [
        "from keras.src.saving.saving_lib import optimizer\n",
        "from keras.applications.mobilenet_v2 import MobileNetV2\n",
        "\n",
        "num_classes = 10\n",
        "base_model_1 = MobileNetV2(weights='imagenet' , include_top = False)\n",
        "x = base_model_1.output\n",
        "x = keras.layers.GlobalAveragePooling2D()(x)\n",
        "x = keras.layers.Dense(1024, activation='relu')(x)\n",
        "predictions = keras.layers.Dense(num_classes, activation='softmax')(x)\n",
        "model_1 = keras.Model(inputs=base_model_1.input, outputs=predictions)\n",
        "model_1.compile(loss = 'sparse_categorical_crossentropy' ,\n",
        "                     optimizer = 'sgd' , metrics = ['accuracy'])\n",
        "for layer in model_1.layers[:100] :\n",
        "  layer.trainable = False\n",
        "for layer in model_1.layers[100:] :\n",
        "  layer.trainable = True\n",
        "check_inc_res = keras.callbacks.ModelCheckpoint(save_PATH, monitor='val_accuracy', save_best_only=False)"
      ],
      "metadata": {
        "id": "hQF-JYT64ZJ-",
        "colab": {
          "base_uri": "https://localhost:8080/"
        },
        "outputId": "7561cb20-a2cb-479d-ad08-a1ff631e93f7"
      },
      "execution_count": 9,
      "outputs": [
        {
          "output_type": "stream",
          "name": "stderr",
          "text": [
            "WARNING:tensorflow:`input_shape` is undefined or non-square, or `rows` is not in [96, 128, 160, 192, 224]. Weights for input shape (224, 224) will be loaded as the default.\n"
          ]
        },
        {
          "output_type": "stream",
          "name": "stdout",
          "text": [
            "Downloading data from https://storage.googleapis.com/tensorflow/keras-applications/mobilenet_v2/mobilenet_v2_weights_tf_dim_ordering_tf_kernels_1.0_224_no_top.h5\n",
            "9406464/9406464 [==============================] - 0s 0us/step\n"
          ]
        }
      ]
    },
    {
      "cell_type": "code",
      "source": [
        "history = model_1.fit(train_ds , validation_data = val_ds , epochs = 30 , callbacks=[check_inc_res] )"
      ],
      "metadata": {
        "colab": {
          "base_uri": "https://localhost:8080/"
        },
        "id": "maT0HP9k38MA",
        "outputId": "05b2d5b2-d021-4405-b6b7-7cdb880b56aa"
      },
      "execution_count": 10,
      "outputs": [
        {
          "output_type": "stream",
          "name": "stdout",
          "text": [
            "Epoch 1/30\n",
            "200/200 [==============================] - ETA: 0s - loss: 1.7033 - accuracy: 0.4258"
          ]
        },
        {
          "output_type": "stream",
          "name": "stderr",
          "text": [
            "/usr/local/lib/python3.10/dist-packages/keras/src/engine/training.py:3079: UserWarning: You are saving your model as an HDF5 file via `model.save()`. This file format is considered legacy. We recommend using instead the native Keras format, e.g. `model.save('my_model.keras')`.\n",
            "  saving_api.save_model(\n"
          ]
        },
        {
          "output_type": "stream",
          "name": "stdout",
          "text": [
            "\b\b\b\b\b\b\b\b\b\b\b\b\b\b\b\b\b\b\b\b\b\b\b\b\b\b\b\b\b\b\b\b\b\b\b\b\b\b\b\b\b\b\b\b\b\b\b\b\b\b\b\b\b\b\b\b\b\b\b\b\b\b\b\b\b\b\b\b\b\b\b\b\b\b\b\b\b\b\b\b\b\b\b\b\r200/200 [==============================] - 101s 366ms/step - loss: 1.7033 - accuracy: 0.4258 - val_loss: 1.8048 - val_accuracy: 0.3737\n",
            "Epoch 2/30\n",
            "200/200 [==============================] - 68s 341ms/step - loss: 1.2161 - accuracy: 0.6003 - val_loss: 1.7096 - val_accuracy: 0.4118\n",
            "Epoch 3/30\n",
            "200/200 [==============================] - 68s 341ms/step - loss: 0.9523 - accuracy: 0.6859 - val_loss: 1.6334 - val_accuracy: 0.4539\n",
            "Epoch 4/30\n",
            "200/200 [==============================] - 69s 344ms/step - loss: 0.7294 - accuracy: 0.7685 - val_loss: 1.5978 - val_accuracy: 0.4955\n",
            "Epoch 5/30\n",
            "200/200 [==============================] - 69s 343ms/step - loss: 0.5421 - accuracy: 0.8302 - val_loss: 1.6966 - val_accuracy: 0.4499\n",
            "Epoch 6/30\n",
            "200/200 [==============================] - 70s 348ms/step - loss: 0.3898 - accuracy: 0.8889 - val_loss: 1.5655 - val_accuracy: 0.5020\n",
            "Epoch 7/30\n",
            "200/200 [==============================] - 69s 346ms/step - loss: 0.2720 - accuracy: 0.9267 - val_loss: 1.6398 - val_accuracy: 0.5005\n",
            "Epoch 8/30\n",
            "200/200 [==============================] - 70s 351ms/step - loss: 0.1743 - accuracy: 0.9577 - val_loss: 1.6856 - val_accuracy: 0.5130\n",
            "Epoch 9/30\n",
            "200/200 [==============================] - 69s 345ms/step - loss: 0.1213 - accuracy: 0.9736 - val_loss: 2.1989 - val_accuracy: 0.4359\n",
            "Epoch 10/30\n",
            "200/200 [==============================] - 69s 343ms/step - loss: 0.0888 - accuracy: 0.9816 - val_loss: 1.9139 - val_accuracy: 0.5140\n",
            "Epoch 11/30\n",
            "200/200 [==============================] - 70s 348ms/step - loss: 0.0676 - accuracy: 0.9876 - val_loss: 1.9836 - val_accuracy: 0.5261\n",
            "Epoch 12/30\n",
            "200/200 [==============================] - 69s 346ms/step - loss: 0.0526 - accuracy: 0.9911 - val_loss: 1.8567 - val_accuracy: 0.5571\n",
            "Epoch 13/30\n",
            "200/200 [==============================] - 68s 341ms/step - loss: 0.0402 - accuracy: 0.9926 - val_loss: 1.9586 - val_accuracy: 0.5491\n",
            "Epoch 14/30\n",
            "200/200 [==============================] - 68s 342ms/step - loss: 0.0300 - accuracy: 0.9954 - val_loss: 1.8618 - val_accuracy: 0.5807\n",
            "Epoch 15/30\n",
            "200/200 [==============================] - 69s 342ms/step - loss: 0.0283 - accuracy: 0.9946 - val_loss: 1.9671 - val_accuracy: 0.5601\n",
            "Epoch 16/30\n",
            "200/200 [==============================] - 70s 350ms/step - loss: 0.0219 - accuracy: 0.9967 - val_loss: 2.0871 - val_accuracy: 0.5546\n",
            "Epoch 17/30\n",
            "200/200 [==============================] - 69s 345ms/step - loss: 0.0169 - accuracy: 0.9975 - val_loss: 1.9931 - val_accuracy: 0.5701\n",
            "Epoch 18/30\n",
            "200/200 [==============================] - 69s 345ms/step - loss: 0.0180 - accuracy: 0.9970 - val_loss: 1.9107 - val_accuracy: 0.5987\n",
            "Epoch 19/30\n",
            "200/200 [==============================] - 70s 350ms/step - loss: 0.0136 - accuracy: 0.9987 - val_loss: 1.9312 - val_accuracy: 0.5947\n",
            "Epoch 20/30\n",
            "200/200 [==============================] - 68s 341ms/step - loss: 0.0115 - accuracy: 0.9990 - val_loss: 1.9793 - val_accuracy: 0.5887\n",
            "Epoch 21/30\n",
            "200/200 [==============================] - 68s 339ms/step - loss: 0.0105 - accuracy: 0.9992 - val_loss: 1.9818 - val_accuracy: 0.5967\n",
            "Epoch 22/30\n",
            "200/200 [==============================] - 69s 343ms/step - loss: 0.0126 - accuracy: 0.9975 - val_loss: 1.9053 - val_accuracy: 0.6087\n",
            "Epoch 23/30\n",
            "200/200 [==============================] - 70s 347ms/step - loss: 0.0126 - accuracy: 0.9979 - val_loss: 2.0147 - val_accuracy: 0.5907\n",
            "Epoch 24/30\n",
            "200/200 [==============================] - 70s 348ms/step - loss: 0.0120 - accuracy: 0.9975 - val_loss: 1.9184 - val_accuracy: 0.6122\n",
            "Epoch 25/30\n",
            "200/200 [==============================] - 69s 344ms/step - loss: 0.0100 - accuracy: 0.9990 - val_loss: 2.0193 - val_accuracy: 0.5997\n",
            "Epoch 26/30\n",
            "200/200 [==============================] - 69s 342ms/step - loss: 0.0090 - accuracy: 0.9985 - val_loss: 2.0400 - val_accuracy: 0.6097\n",
            "Epoch 27/30\n",
            "200/200 [==============================] - 68s 341ms/step - loss: 0.0085 - accuracy: 0.9984 - val_loss: 2.1328 - val_accuracy: 0.5887\n",
            "Epoch 28/30\n",
            "200/200 [==============================] - 69s 345ms/step - loss: 0.0079 - accuracy: 0.9987 - val_loss: 2.1087 - val_accuracy: 0.5882\n",
            "Epoch 29/30\n",
            "200/200 [==============================] - 68s 341ms/step - loss: 0.0083 - accuracy: 0.9984 - val_loss: 2.2308 - val_accuracy: 0.5872\n",
            "Epoch 30/30\n",
            "200/200 [==============================] - 68s 339ms/step - loss: 0.0084 - accuracy: 0.9989 - val_loss: 2.2184 - val_accuracy: 0.5907\n"
          ]
        }
      ]
    },
    {
      "cell_type": "code",
      "source": [
        "# Plot accuracy\n",
        "plt.plot(history.history['accuracy'])\n",
        "plt.plot(history.history['val_accuracy'])\n",
        "plt.title('Model accuracy')\n",
        "plt.ylabel('Accuracy')\n",
        "plt.xlabel('Epoch')\n",
        "plt.legend(['Train', 'Validation'], loc='upper left')\n",
        "plt.show()\n"
      ],
      "metadata": {
        "colab": {
          "base_uri": "https://localhost:8080/",
          "height": 472
        },
        "id": "VleLXtbpdFWo",
        "outputId": "a5ab47d5-a5bc-4361-be05-b44fb65b88a0"
      },
      "execution_count": 11,
      "outputs": [
        {
          "output_type": "display_data",
          "data": {
            "text/plain": [
              "<Figure size 640x480 with 1 Axes>"
            ],
            "image/png": "[encoded data removed]"
          },
          "metadata": {}
        }
      ]
    }
  ]
}